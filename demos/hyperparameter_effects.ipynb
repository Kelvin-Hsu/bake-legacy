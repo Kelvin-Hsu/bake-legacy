{
 "cells": [
  {
   "cell_type": "code",
   "execution_count": 1,
   "metadata": {
    "collapsed": true
   },
   "outputs": [],
   "source": [
    "import numpy as np\n",
    "import bake\n",
    "np.set_printoptions(2)"
   ]
  },
  {
   "cell_type": "code",
   "execution_count": 2,
   "metadata": {
    "collapsed": false
   },
   "outputs": [
    {
     "name": "stdout",
     "output_type": "stream",
     "text": [
      "[[-1  1]\n",
      " [ 1  1]\n",
      " [ 0  0]\n",
      " [-1 -1]\n",
      " [ 1 -1]]\n"
     ]
    }
   ],
   "source": [
    "X = np.array([[-1, 1], [1, 1], [0, 0], [-1, -1], [1, -1]])\n",
    "I = np.eye(X.shape[0])\n",
    "print(X)"
   ]
  },
  {
   "cell_type": "code",
   "execution_count": 3,
   "metadata": {
    "collapsed": true
   },
   "outputs": [],
   "source": [
    "kernel = bake.kernels.gaussian\n",
    "k = lambda s, t: (s ** 2) * kernel(X, X, t)\n",
    "w = lambda s, t, l: bake.linalg.solve_posdef(k(s, t) + (l ** 2) * I, k(s, t))[0]"
   ]
  },
  {
   "cell_type": "code",
   "execution_count": 4,
   "metadata": {
    "collapsed": true
   },
   "outputs": [],
   "source": [
    "def print_w_info(s, t, l):\n",
    "    W = w(s, t, l)\n",
    "    return print(W, W.sum(axis=0), np.round(W.diagonal().sum(), 4), np.round(W.T.dot(W).diagonal().sum(), 4))"
   ]
  },
  {
   "cell_type": "code",
   "execution_count": 5,
   "metadata": {
    "collapsed": false
   },
   "outputs": [
    {
     "name": "stdout",
     "output_type": "stream",
     "text": [
      "[[  1.00e+00   1.38e-95   3.72e-48   1.38e-95  -1.38e-91]\n",
      " [  1.38e-95   1.00e+00   3.72e-48  -1.38e-91   1.38e-95]\n",
      " [  3.72e-48   3.72e-48   1.00e+00   3.72e-48   3.72e-48]\n",
      " [  1.38e-95  -1.38e-91   3.72e-48   1.00e+00   1.38e-95]\n",
      " [ -1.38e-91   1.38e-95   3.72e-48   1.38e-95   1.00e+00]] [ 1.  1.  1.  1.  1.] 4.9995 4.999\n",
      "[[  1.00e+00   2.42e-09   4.92e-05   2.42e-09  -1.59e-05]\n",
      " [  2.42e-09   1.00e+00   4.92e-05  -1.59e-05   2.42e-09]\n",
      " [  4.92e-05   4.92e-05   1.00e+00   4.92e-05   4.92e-05]\n",
      " [  2.42e-09  -1.59e-05   4.92e-05   1.00e+00   2.42e-09]\n",
      " [ -1.59e-05   2.42e-09   4.92e-05   2.42e-09   1.00e+00]] [ 1.  1.  1.  1.  1.] 4.9994 4.9987\n",
      "[[ 0.92  0.02  0.11  0.02 -0.08]\n",
      " [ 0.02  0.92  0.11 -0.08  0.02]\n",
      " [ 0.11  0.11  0.56  0.11  0.11]\n",
      " [ 0.02 -0.08  0.11  0.92  0.02]\n",
      " [-0.08  0.02  0.11  0.02  0.92]] [ 1.  1.  1.  1.  1.] 4.2351 3.8213\n",
      "[[ 0.6  0.2  0.2  0.2 -0.2]\n",
      " [ 0.2  0.6  0.2 -0.2  0.2]\n",
      " [ 0.2  0.2  0.2  0.2  0.2]\n",
      " [ 0.2 -0.2  0.2  0.6  0.2]\n",
      " [-0.2  0.2  0.2  0.2  0.6]] [ 1.  1.  1.  1.  1.] 2.6004 2.2799\n",
      "[[ 0.22  0.2   0.2   0.2   0.18]\n",
      " [ 0.2   0.22  0.2   0.18  0.2 ]\n",
      " [ 0.2   0.2   0.2   0.2   0.2 ]\n",
      " [ 0.2   0.18  0.2   0.22  0.2 ]\n",
      " [ 0.18  0.2   0.2   0.2   0.22]] [ 1.  1.  1.  1.  1.] 1.0769 1.0029\n"
     ]
    },
    {
     "data": {
      "text/plain": [
       "[None, None, None, None, None]"
      ]
     },
     "execution_count": 5,
     "metadata": {},
     "output_type": "execute_result"
    }
   ],
   "source": [
    "# Increasing length scale increases off-diagonal entries (points affect each other more)\n",
    "# Eventually the diagonal entries also drop off (self becomes less important)\n",
    "# It does not really affect the sum of weights\n",
    "[print_w_info(1, t, 0.01) for t in [0.1, 1, 10, 100, 1000]]"
   ]
  },
  {
   "cell_type": "code",
   "execution_count": 6,
   "metadata": {
    "collapsed": false
   },
   "outputs": [
    {
     "name": "stdout",
     "output_type": "stream",
     "text": [
      "[[ 1.  0.  0.  0.  0.]\n",
      " [ 0.  1.  0.  0.  0.]\n",
      " [ 0.  0.  1.  0.  0.]\n",
      " [ 0.  0.  0.  1.  0.]\n",
      " [ 0.  0.  0.  0.  1.]] [ 1.  1.  1.  1.  1.] 5.0 5.0\n",
      "[[  1.00e+00   0.00e+00   4.92e-13   1.60e-17  -1.59e-13]\n",
      " [ -2.26e-17   1.00e+00   4.92e-13  -1.59e-13  -1.29e-17]\n",
      " [  4.92e-13   4.92e-13   1.00e+00   4.92e-13   4.92e-13]\n",
      " [ -2.26e-17  -1.59e-13   4.92e-13   1.00e+00  -3.27e-17]\n",
      " [ -1.59e-13  -3.27e-17   4.92e-13   0.00e+00   1.00e+00]] [ 1.  1.  1.  1.  1.] 5.0 5.0\n",
      "[[  1.00e+00   2.78e-17   4.92e-09   3.09e-17  -1.59e-09]\n",
      " [  2.14e-17   1.00e+00   4.92e-09  -1.59e-09   1.18e-17]\n",
      " [  4.92e-09   4.92e-09   1.00e+00   4.92e-09   4.92e-09]\n",
      " [  2.14e-17  -1.59e-09   4.92e-09   1.00e+00  -8.49e-18]\n",
      " [ -1.59e-09   3.27e-17   4.92e-09   3.27e-17   1.00e+00]] [ 1.  1.  1.  1.  1.] 5.0 5.0\n",
      "[[  1.00e+00   2.42e-09   4.92e-05   2.42e-09  -1.59e-05]\n",
      " [  2.42e-09   1.00e+00   4.92e-05  -1.59e-05   2.42e-09]\n",
      " [  4.92e-05   4.92e-05   1.00e+00   4.92e-05   4.92e-05]\n",
      " [  2.42e-09  -1.59e-05   4.92e-05   1.00e+00   2.42e-09]\n",
      " [ -1.59e-05   2.42e-09   4.92e-05   2.42e-09   1.00e+00]] [ 1.  1.  1.  1.  1.] 4.9994 4.9987\n",
      "[[  9.88e-01   2.32e-05   4.77e-03   2.32e-05  -1.53e-03]\n",
      " [  2.32e-05   9.88e-01   4.77e-03  -1.53e-03   2.32e-05]\n",
      " [  4.77e-03   4.77e-03   9.83e-01   4.77e-03   4.77e-03]\n",
      " [  2.32e-05  -1.53e-03   4.77e-03   9.88e-01   2.32e-05]\n",
      " [ -1.53e-03   2.32e-05   4.77e-03   2.32e-05   9.88e-01]] [ 0.99  0.99  1.    0.99  0.99] 4.9367 4.8744\n",
      "[[ 0.48  0.02  0.09  0.02 -0.01]\n",
      " [ 0.02  0.48  0.09 -0.01  0.02]\n",
      " [ 0.09  0.09  0.43  0.09  0.09]\n",
      " [ 0.02 -0.01  0.09  0.48  0.02]\n",
      " [-0.01  0.02  0.09  0.02  0.48]] [ 0.6  0.6  0.8  0.6  0.6] 2.356 1.1823\n"
     ]
    },
    {
     "data": {
      "text/plain": [
       "[None, None, None, None, None, None]"
      ]
     },
     "execution_count": 6,
     "metadata": {},
     "output_type": "execute_result"
    }
   ],
   "source": [
    "# Increasing regularisation decreases diagonal entries (self becomes less important) and \n",
    "# increases off-diagonal entries (points affect each other more)\n",
    "# Diagonal entries seem to max out at 1\n",
    "[print_w_info(1, 1, l) for l in [1e-8, 1e-6, 1e-4, 1e-2, 1e-1, 1]]"
   ]
  },
  {
   "cell_type": "code",
   "execution_count": 7,
   "metadata": {
    "collapsed": false
   },
   "outputs": [
    {
     "name": "stdout",
     "output_type": "stream",
     "text": [
      "[[ 0.01  0.    0.    0.    0.  ]\n",
      " [ 0.    0.01  0.    0.    0.  ]\n",
      " [ 0.    0.    0.01  0.    0.  ]\n",
      " [ 0.    0.    0.    0.01  0.  ]\n",
      " [ 0.    0.    0.    0.    0.01]] [ 0.02  0.02  0.02  0.02  0.02] 0.0494 0.0006\n",
      "[[ 0.48  0.02  0.09  0.02 -0.01]\n",
      " [ 0.02  0.48  0.09 -0.01  0.02]\n",
      " [ 0.09  0.09  0.43  0.09  0.09]\n",
      " [ 0.02 -0.01  0.09  0.48  0.02]\n",
      " [-0.01  0.02  0.09  0.02  0.48]] [ 0.6  0.6  0.8  0.6  0.6] 2.356 1.1823\n",
      "[[  1.00e+00   2.42e-09   4.92e-05   2.42e-09  -1.59e-05]\n",
      " [  2.42e-09   1.00e+00   4.92e-05  -1.59e-05   2.42e-09]\n",
      " [  4.92e-05   4.92e-05   1.00e+00   4.92e-05   4.92e-05]\n",
      " [  2.42e-09  -1.59e-05   4.92e-05   1.00e+00   2.42e-09]\n",
      " [ -1.59e-05   2.42e-09   4.92e-05   2.42e-09   1.00e+00]] [ 1.  1.  1.  1.  1.] 4.9994 4.9987\n",
      "[[  1.00e+00   3.55e-17   4.92e-09   2.01e-17  -1.59e-09]\n",
      " [  1.53e-17   1.00e+00   4.92e-09  -1.59e-09   1.36e-17]\n",
      " [  4.92e-09   4.92e-09   1.00e+00   4.92e-09   4.92e-09]\n",
      " [  1.53e-17  -1.59e-09   4.92e-09   1.00e+00   2.42e-17]\n",
      " [ -1.59e-09   2.68e-17   4.92e-09   2.68e-17   1.00e+00]] [ 1.  1.  1.  1.  1.] 5.0 5.0\n",
      "[[  1.00e+00   0.00e+00   4.92e-13  -6.48e-18  -1.59e-13]\n",
      " [ -8.84e-18   1.00e+00   4.92e-13  -1.59e-13   2.16e-18]\n",
      " [  4.92e-13   4.92e-13   1.00e+00   4.92e-13   4.92e-13]\n",
      " [ -8.84e-18  -1.59e-13   4.92e-13   1.00e+00   2.19e-17]\n",
      " [ -1.59e-13   0.00e+00   4.92e-13   0.00e+00   1.00e+00]] [ 1.  1.  1.  1.  1.] 5.0 5.0\n",
      "[[  1.00e+00   0.00e+00   1.01e-16   0.00e+00   0.00e+00]\n",
      " [  2.04e-17   1.00e+00   1.17e-16   0.00e+00   0.00e+00]\n",
      " [ -1.69e-17   7.51e-18   1.00e+00   0.00e+00   0.00e+00]\n",
      " [  2.04e-17   1.62e-33   1.44e-16   1.00e+00   0.00e+00]\n",
      " [  4.49e-18  -1.80e-17   1.44e-16   0.00e+00   1.00e+00]] [ 1.  1.  1.  1.  1.] 5.0 5.0\n"
     ]
    },
    {
     "data": {
      "text/plain": [
       "[None, None, None, None, None, None]"
      ]
     },
     "execution_count": 7,
     "metadata": {},
     "output_type": "execute_result"
    }
   ],
   "source": [
    "# Increasing sensitivity increases diagonal entries (self becomes more important) and \n",
    "# decreases off-diagonal entries (points affect each other less)\n",
    "# Seems to be opposite to regularisation parameter\n",
    "# Diagonal entries seem to max out at 1\n",
    "[print_w_info(s, 1, 0.01) for s in [1e-3, 1e-2, 1, 1e2, 1e4, 1e6]]"
   ]
  }
 ],
 "metadata": {
  "kernelspec": {
   "display_name": "Python 3",
   "language": "python",
   "name": "python3"
  },
  "language_info": {
   "codemirror_mode": {
    "name": "ipython",
    "version": 3
   },
   "file_extension": ".py",
   "mimetype": "text/x-python",
   "name": "python",
   "nbconvert_exporter": "python",
   "pygments_lexer": "ipython3",
   "version": "3.5.2"
  }
 },
 "nbformat": 4,
 "nbformat_minor": 1
}
