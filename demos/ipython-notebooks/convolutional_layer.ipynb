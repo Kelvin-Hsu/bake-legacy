{
 "cells": [
  {
   "cell_type": "code",
   "execution_count": 1,
   "metadata": {
    "collapsed": true
   },
   "outputs": [],
   "source": [
    "import tensorflow as tf\n",
    "import numpy as np\n",
    "from tensorflow.examples.tutorials.mnist import input_data"
   ]
  },
  {
   "cell_type": "code",
   "execution_count": 2,
   "metadata": {
    "collapsed": false
   },
   "outputs": [
    {
     "name": "stdout",
     "output_type": "stream",
     "text": [
      "Extracting MNIST_data/train-images-idx3-ubyte.gz\n",
      "Extracting MNIST_data/train-labels-idx1-ubyte.gz\n",
      "Extracting MNIST_data/t10k-images-idx3-ubyte.gz\n",
      "Extracting MNIST_data/t10k-labels-idx1-ubyte.gz\n",
      "Tensor(\"Placeholder:0\", shape=(?, 28, 28, 1), dtype=float32)\n"
     ]
    }
   ],
   "source": [
    "# Load the MNIST dataset\n",
    "mnist = input_data.read_data_sets(\"MNIST_data/\", one_hot=False)\n",
    "\n",
    "# Load the training data\n",
    "x_train = np.reshape(mnist.train.images[:500], (500, 28, 28, 1))\n",
    "x_test = np.reshape(mnist.train.images[:1000], (1000, 28, 28, 1))\n",
    "\n",
    "# tf.reshape(x_train, [-1, 28, 28, 1])\n",
    "input_layer = tf.placeholder(tf.float32, [None, 28, 28, 1])\n",
    "print(input_layer)\n",
    "\n",
    "# conv1 = tf.layers.conv2d(\n",
    "#       inputs=input_layer,\n",
    "#       filters=32,\n",
    "#       kernel_size=[5, 5],\n",
    "#       padding=\"same\",\n",
    "#       activation=tf.nn.relu)\n",
    "# print(conv1)"
   ]
  },
  {
   "cell_type": "code",
   "execution_count": 3,
   "metadata": {
    "collapsed": false
   },
   "outputs": [
    {
     "name": "stdout",
     "output_type": "stream",
     "text": [
      "Tensor(\"conv_layer:0\", shape=(?, 28, 28, 32), dtype=float32)\n"
     ]
    }
   ],
   "source": [
    "filter_height, filter_width, in_channels, out_channels = 5, 5, 1, 32\n",
    "stride_height, stride_width = 1, 1\n",
    "\n",
    "w = -np.random.rand(filter_height, filter_width, in_channels, out_channels)\n",
    "weights = tf.Variable(w)\n",
    "filter_matrix = tf.cast(weights, tf.float32)\n",
    "strides = [1, stride_height, stride_width, 1]\n",
    "padding = 'SAME'\n",
    "conv_layer = tf.nn.conv2d(\n",
    "    input_layer,\n",
    "    filter_matrix,\n",
    "    strides,\n",
    "    padding,\n",
    "    use_cudnn_on_gpu=True,\n",
    "    data_format='NHWC',\n",
    "    name='conv_layer'\n",
    ")\n",
    "print(conv_layer)"
   ]
  },
  {
   "cell_type": "code",
   "execution_count": 4,
   "metadata": {
    "collapsed": false
   },
   "outputs": [],
   "source": [
    "activation_layer = tf.nn.relu(conv_layer)"
   ]
  },
  {
   "cell_type": "code",
   "execution_count": 5,
   "metadata": {
    "collapsed": false
   },
   "outputs": [
    {
     "name": "stdout",
     "output_type": "stream",
     "text": [
      "Tensor(\"MaxPool:0\", shape=(?, 28, 28, 32), dtype=float32)\n"
     ]
    }
   ],
   "source": [
    "ksize = [1, 5, 5, 1]\n",
    "strides = [1, 1, 1, 1]\n",
    "pooling_layer = tf.nn.max_pool(activation_layer, ksize, strides, padding, data_format='NHWC', name=None)\n",
    "print(pooling_layer)"
   ]
  },
  {
   "cell_type": "code",
   "execution_count": null,
   "metadata": {
    "collapsed": true
   },
   "outputs": [],
   "source": [
    ""
   ]
  },
  {
   "cell_type": "code",
   "execution_count": null,
   "metadata": {
    "collapsed": true
   },
   "outputs": [],
   "source": [
    "sess = tf.Session()\n",
    "sess.run(tf.global_variables_initializer())"
   ]
  }
 ],
 "metadata": {
  "kernelspec": {
   "display_name": "Python 3",
   "language": "python",
   "name": "python3"
  },
  "language_info": {
   "codemirror_mode": {
    "name": "ipython",
    "version": 3.0
   },
   "file_extension": ".py",
   "mimetype": "text/x-python",
   "name": "python",
   "nbconvert_exporter": "python",
   "pygments_lexer": "ipython3",
   "version": "3.5.2"
  }
 },
 "nbformat": 4,
 "nbformat_minor": 0
}