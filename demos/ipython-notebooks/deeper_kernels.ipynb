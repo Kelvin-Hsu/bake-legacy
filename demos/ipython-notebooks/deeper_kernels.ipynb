{
 "cells": [
  {
   "cell_type": "code",
   "execution_count": 10,
   "metadata": {
    "collapsed": true
   },
   "outputs": [],
   "source": [
    "import tensorflow as tf\n",
    "import numpy as np\n",
    "from cake.kernels import s_gaussian_mlp1\n",
    "tf_float_type = tf.float64"
   ]
  },
  {
   "cell_type": "code",
   "execution_count": 11,
   "metadata": {
    "collapsed": true
   },
   "outputs": [],
   "source": [
    "n_p = 5\n",
    "n_q = 3\n",
    "d = 2\n",
    "x_p = np.random.rand(n_p, d)\n",
    "x_q = np.random.rand(n_q, d)\n",
    "tf_x_p = tf.Variable(x_p)\n",
    "tf_x_q = tf.Variable(x_q)"
   ]
  },
  {
   "cell_type": "code",
   "execution_count": 12,
   "metadata": {
    "collapsed": false
   },
   "outputs": [],
   "source": [
    "d_1 = 5\n",
    "d_2 = 4\n",
    "w_1 = np.random.rand(d, d_1)\n",
    "b_1 = np.random.rand(d_1)\n",
    "theta = np.array([1., 1.])\n",
    "zeta = 1e-4\n",
    "tf_w_1 = tf.Variable(w_1)\n",
    "tf_b_1 = tf.Variable(b_1)\n",
    "tf_theta = tf.Variable(theta)\n",
    "tf_zeta = tf.Variable(zeta)"
   ]
  },
  {
   "cell_type": "code",
   "execution_count": 13,
   "metadata": {
    "collapsed": false
   },
   "outputs": [],
   "source": [
    "tf_k = s_gaussian_mlp1(tf_x_p, tf_x_p, tf_theta, tf_w_1, tf_b_1)\n",
    "\n",
    "i = tf.cast(tf.eye(n_p), tf_float_type)\n",
    "reg = n_p * zeta * i\n",
    "        \n",
    "tf_k_reg = tf_k + reg\n",
    "tf_l = tf.cholesky(tf_k_reg)"
   ]
  },
  {
   "cell_type": "code",
   "execution_count": 14,
   "metadata": {
    "collapsed": false
   },
   "outputs": [
    {
     "name": "stdout",
     "output_type": "stream",
     "text": [
      "[[ 1.          0.82237829  0.85007807  0.87604647  0.90431896]\n",
      " [ 0.82237829  1.          0.81137635  0.58266935  0.5621686 ]\n",
      " [ 0.85007807  0.81137635  1.          0.83912688  0.70208994]\n",
      " [ 0.87604647  0.58266935  0.83912688  1.          0.93314274]\n",
      " [ 0.90431896  0.5621686   0.70208994  0.93314274  1.        ]]\n",
      "[[ 1.0005      0.82237829  0.85007807  0.87604647  0.90431896]\n",
      " [ 0.82237829  1.0005      0.81137635  0.58266935  0.5621686 ]\n",
      " [ 0.85007807  0.81137635  1.0005      0.83912688  0.70208994]\n",
      " [ 0.87604647  0.58266935  0.83912688  1.0005      0.93314274]\n",
      " [ 0.90431896  0.5621686   0.70208994  0.93314274  1.0005    ]]\n",
      "[[ 1.00024997  0.          0.          0.          0.        ]\n",
      " [ 0.82217278  0.56967704  0.          0.          0.        ]\n",
      " [ 0.84986563  0.197726    0.4890121   0.          0.        ]\n",
      " [ 0.87582754 -0.24121073  0.29137271  0.30057518  0.        ]\n",
      " [ 0.90409296 -0.31799074 -0.00693756  0.22168118  0.18112739]]\n"
     ]
    }
   ],
   "source": [
    "sess = tf.Session()\n",
    "sess.run(tf.global_variables_initializer())\n",
    "print(sess.run(tf_k))\n",
    "print(sess.run(tf_k_reg))\n",
    "print(sess.run(tf_l))"
   ]
  },
  {
   "cell_type": "code",
   "execution_count": null,
   "metadata": {
    "collapsed": true
   },
   "outputs": [],
   "source": []
  }
 ],
 "metadata": {
  "kernelspec": {
   "display_name": "Python 3",
   "language": "python",
   "name": "python3"
  },
  "language_info": {
   "codemirror_mode": {
    "name": "ipython",
    "version": 3
   },
   "file_extension": ".py",
   "mimetype": "text/x-python",
   "name": "python",
   "nbconvert_exporter": "python",
   "pygments_lexer": "ipython3",
   "version": "3.5.2"
  }
 },
 "nbformat": 4,
 "nbformat_minor": 1
}
