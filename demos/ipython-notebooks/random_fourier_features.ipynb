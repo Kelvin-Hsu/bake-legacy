{
 "cells": [
  {
   "cell_type": "code",
   "execution_count": 1,
   "metadata": {
    "collapsed": true,
    "deletable": true,
    "editable": true
   },
   "outputs": [],
   "source": [
    "import numpy as np\n",
    "from scipy.linalg import cholesky, cho_solve"
   ]
  },
  {
   "cell_type": "code",
   "execution_count": 2,
   "metadata": {
    "collapsed": true,
    "deletable": true,
    "editable": true
   },
   "outputs": [],
   "source": [
    "from bake.kernels import s_gaussian"
   ]
  },
  {
   "cell_type": "code",
   "execution_count": 3,
   "metadata": {
    "collapsed": true,
    "deletable": true,
    "editable": true
   },
   "outputs": [],
   "source": [
    "np.random.seed(100)\n",
    "np.set_printoptions(2)\n",
    "n = 2000\n",
    "m = 10\n",
    "d = 7 * 7 * 64\n",
    "n_q = 10\n",
    "x = np.random.rand(n, d)\n",
    "x_q = np.random.rand(n_q, d)\n",
    "y = np.random.randint(0, m, (n, 1))\n",
    "classes = np.unique(y)\n",
    "y_one_hot = y == classes\n",
    "g = y_one_hot"
   ]
  },
  {
   "cell_type": "code",
   "execution_count": 4,
   "metadata": {
    "collapsed": true,
    "deletable": true,
    "editable": true
   },
   "outputs": [],
   "source": [
    "theta = np.array([10, 10])\n",
    "zeta = 1e-4"
   ]
  },
  {
   "cell_type": "code",
   "execution_count": 5,
   "metadata": {
    "collapsed": true,
    "deletable": true,
    "editable": true
   },
   "outputs": [],
   "source": [
    "chol = lambda a: cholesky(a, lower=True)\n",
    "chol_solve = lambda l, b: cho_solve((l, True), b)"
   ]
  },
  {
   "cell_type": "code",
   "execution_count": 6,
   "metadata": {
    "collapsed": false,
    "deletable": true,
    "editable": true
   },
   "outputs": [
    {
     "name": "stdout",
     "output_type": "stream",
     "text": [
      "(2000, 2000) 0.029802322387695312\n"
     ]
    }
   ],
   "source": [
    "if n <= 10000:\n",
    "    k = s_gaussian(x, x, theta)\n",
    "    print(k.shape, k.nbytes / 1024**3)"
   ]
  },
  {
   "cell_type": "code",
   "execution_count": 7,
   "metadata": {
    "collapsed": false,
    "deletable": true,
    "editable": true
   },
   "outputs": [
    {
     "name": "stdout",
     "output_type": "stream",
     "text": [
      "(2000, 2000) 0.029802322387695312\n"
     ]
    }
   ],
   "source": [
    "if n <= 10000:\n",
    "    l = chol(k + n * zeta * np.eye(n))\n",
    "    print(l.shape, l.nbytes / 1024**3)"
   ]
  },
  {
   "cell_type": "code",
   "execution_count": 8,
   "metadata": {
    "collapsed": false,
    "deletable": true,
    "editable": true
   },
   "outputs": [
    {
     "name": "stdout",
     "output_type": "stream",
     "text": [
      "(2000, 10) 0.00014901161193847656\n"
     ]
    }
   ],
   "source": [
    "if n <= 10000:    \n",
    "    k_q = s_gaussian(x, x_q, theta)\n",
    "    print(k_q.shape, k_q.nbytes / 1024**3)"
   ]
  },
  {
   "cell_type": "code",
   "execution_count": 9,
   "metadata": {
    "collapsed": false,
    "deletable": true,
    "editable": true
   },
   "outputs": [
    {
     "name": "stdout",
     "output_type": "stream",
     "text": [
      "[[ 0.15  0.06  0.09  0.07  0.06  0.09  0.07  0.1   0.14  0.17]\n",
      " [ 0.06  0.08  0.19  0.16  0.13  0.11  0.07  0.14  0.13  0.11]\n",
      " [ 0.    0.07  0.16  0.12  0.14  0.14  0.1   0.14  0.07  0.15]\n",
      " [ 0.09  0.14  0.03  0.05  0.04  0.06  0.11  0.1   0.16  0.1 ]\n",
      " [ 0.08  0.09  0.1   0.08  0.12  0.15  0.15  0.16  0.06  0.07]\n",
      " [ 0.12  0.15  0.13  0.07  0.06  0.07  0.03  0.1   0.13  0.08]\n",
      " [ 0.21  0.09  0.01  0.15  0.19  0.1   0.12  0.07  0.07  0.11]\n",
      " [ 0.08  0.14  0.09  0.12  0.06  0.07  0.13  0.01  0.09  0.04]\n",
      " [ 0.1   0.07 -0.01  0.08  0.08  0.11  0.13  0.17  0.11  0.11]\n",
      " [ 0.08  0.1   0.18  0.08  0.09  0.09  0.08  0.01  0.04  0.05]]\n",
      "[9 2 2 8 7 1 0 1 7 2]\n"
     ]
    }
   ],
   "source": [
    "if n <= 10000:    \n",
    "    result = np.dot(g.T, chol_solve(l, k_q))\n",
    "    print(result)\n",
    "    print(result.argmax(axis=1))"
   ]
  },
  {
   "cell_type": "code",
   "execution_count": 10,
   "metadata": {
    "collapsed": false,
    "deletable": true,
    "editable": true
   },
   "outputs": [
    {
     "name": "stdout",
     "output_type": "stream",
     "text": [
      "(3136,) (3136, 3136)\n",
      "(3136, 3136) 0.073272705078125\n",
      "(3136, 3136) 0.073272705078125\n"
     ]
    }
   ],
   "source": [
    "rg = np.random.normal(loc=0, scale=1, size=(d, d))\n",
    "rg_2 = np.random.normal(loc=0, scale=1, size=(d, d))\n",
    "s = np.sum(rg_2 ** 2, axis=1)\n",
    "q, r = np.linalg.qr(rg)\n",
    "print(s.shape, q.shape)\n",
    "print(rg.shape, rg.nbytes / 1024**3)\n",
    "# w = rg / theta[1:]\n",
    "w = (q * s).T / theta[1:]\n",
    "print(w.shape, w.nbytes / 1024**3)\n",
    "def phi(x):\n",
    "    c = np.cos(np.dot(w, x.T)) / np.sqrt(d)\n",
    "    s = np.sin(np.dot(w, x.T)) / np.sqrt(d)\n",
    "    return np.concatenate((c, s), axis=0)"
   ]
  },
  {
   "cell_type": "code",
   "execution_count": 11,
   "metadata": {
    "collapsed": false,
    "deletable": true,
    "editable": true
   },
   "outputs": [
    {
     "name": "stdout",
     "output_type": "stream",
     "text": [
      "(2000, 6272) 0.0934600830078125\n"
     ]
    }
   ],
   "source": [
    "Q = phi(x).T\n",
    "print(Q.shape, Q.nbytes / 1024**3)"
   ]
  },
  {
   "cell_type": "code",
   "execution_count": 12,
   "metadata": {
    "collapsed": true,
    "deletable": true,
    "editable": true
   },
   "outputs": [],
   "source": [
    "g_new = np.dot(g.T, Q)"
   ]
  },
  {
   "cell_type": "code",
   "execution_count": 13,
   "metadata": {
    "collapsed": false,
    "deletable": true,
    "editable": true
   },
   "outputs": [
    {
     "name": "stdout",
     "output_type": "stream",
     "text": [
      "(6272, 6272) 0.2930908203125\n"
     ]
    }
   ],
   "source": [
    "reg = n * zeta * np.eye(Q.shape[1]) / (theta[0] ** 2)\n",
    "l_new = chol(np.dot(Q.T, Q) + reg)\n",
    "print(l_new.shape, l_new.nbytes / 1024**3)"
   ]
  },
  {
   "cell_type": "code",
   "execution_count": 14,
   "metadata": {
    "collapsed": false,
    "deletable": true,
    "editable": true
   },
   "outputs": [
    {
     "name": "stdout",
     "output_type": "stream",
     "text": [
      "(6272, 10) 0.0004673004150390625\n"
     ]
    }
   ],
   "source": [
    "Q_q = phi(x_q)\n",
    "print(Q_q.shape, Q_q.nbytes / 1024**3)"
   ]
  },
  {
   "cell_type": "code",
   "execution_count": 15,
   "metadata": {
    "collapsed": false,
    "deletable": true,
    "editable": true
   },
   "outputs": [],
   "source": [
    "result_new = np.dot(g_new, chol_solve(l_new, Q_q))"
   ]
  },
  {
   "cell_type": "code",
   "execution_count": 16,
   "metadata": {
    "collapsed": false,
    "deletable": true,
    "editable": true
   },
   "outputs": [
    {
     "name": "stdout",
     "output_type": "stream",
     "text": [
      "[[-0.03 -0.2   0.26  0.01  0.11  0.2  -0.12  0.16 -0.38  0.05]\n",
      " [-0.07 -0.03  0.11  0.05 -0.27 -0.    0.23  0.08  0.   -0.43]\n",
      " [-0.34  0.1   0.24  0.38 -0.23 -0.12  0.14 -0.13  0.04 -0.03]\n",
      " [-0.31  0.07  0.32  0.07  0.16  0.19 -0.59 -0.27 -0.08 -0.35]\n",
      " [-0.02 -0.58  0.01 -0.12 -0.1   0.01  0.17 -0.28 -0.2  -0.13]\n",
      " [ 0.09 -0.16 -0.01 -0.09  0.34 -0.13  0.27 -0.23 -0.09  0.25]\n",
      " [ 0.2   0.1  -0.09  0.26 -0.09 -0.17 -0.2   0.3  -0.35  0.23]\n",
      " [-0.12  0.1  -0.27 -0.18 -0.    0.29  0.01 -0.2   0.42  0.08]\n",
      " [ 0.1   0.02  0.05  0.03  0.06  0.14 -0.2   0.04  0.01 -0.03]\n",
      " [-0.1   0.03  0.06 -0.19 -0.02 -0.33  0.12  0.28  0.03  0.  ]]\n",
      "[2 6 3 2 6 4 7 8 5 7]\n"
     ]
    }
   ],
   "source": [
    "print(result_new)\n",
    "print(result_new.argmax(axis=1))"
   ]
  },
  {
   "cell_type": "code",
   "execution_count": 17,
   "metadata": {
    "collapsed": false,
    "deletable": true,
    "editable": true
   },
   "outputs": [],
   "source": [
    "# if n <= 10000:    \n",
    "#     k = np.dot(Q, Q.T)\n",
    "#     l = chol(k + n * zeta * np.eye(n) / (theta[0] ** 2))\n",
    "#     k_q = np.dot(Q, Q_q)\n",
    "#     result = np.dot(g.T, chol_solve(l, k_q))\n",
    "#     print(result)\n",
    "#     print(result.argmax(axis=1))"
   ]
  },
  {
   "cell_type": "code",
   "execution_count": 1,
   "metadata": {
    "collapsed": true,
    "deletable": true,
    "editable": true
   },
   "outputs": [],
   "source": [
    "import numpy as np\n",
    "def generate_random_feature_square_weights(n_features):\n",
    "\n",
    "    normals = np.random.normal(loc=0, scale=1, size=(n_features, n_features))\n",
    "    q, r = np.linalg.qr(normals)\n",
    "    normals = np.random.normal(loc=0, scale=1, size=(n_features, n_features))\n",
    "    s = np.sum(normals ** 2, axis=1)\n",
    "    g = (q * s).T\n",
    "    return g\n",
    "\n",
    "def generate_random_feature_weights(n_basis, n_features):\n",
    "\n",
    "    n_repeats = int(n_basis / n_features) + 1\n",
    "    gs = [generate_random_feature_square_weights(n_features) for i in range(n_repeats)]\n",
    "    g_full = np.concatenate(tuple(gs), axis = 0)\n",
    "    g = g_full[:n_basis]\n",
    "    return g"
   ]
  },
  {
   "cell_type": "code",
   "execution_count": 2,
   "metadata": {
    "collapsed": false
   },
   "outputs": [
    {
     "data": {
      "text/plain": [
       "array([[-0.95750523, -0.89879887,  0.64969324],\n",
       "       [ 0.90984933, -2.92201005, -2.70145008],\n",
       "       [ 4.23086587, -1.95143321,  3.53571512]])"
      ]
     },
     "execution_count": 2,
     "metadata": {},
     "output_type": "execute_result"
    }
   ],
   "source": [
    "generate_random_feature_square_weights(3)"
   ]
  },
  {
   "cell_type": "code",
   "execution_count": 3,
   "metadata": {
    "collapsed": false
   },
   "outputs": [
    {
     "data": {
      "text/plain": [
       "array([[-6.26915552,  1.50044422,  6.22054218],\n",
       "       [-1.78391506, -2.00127379, -1.31513315],\n",
       "       [ 3.68567034, -6.80498114,  5.35588928],\n",
       "       [-1.02915641, -1.75699045,  0.55927114],\n",
       "       [-0.02183948, -0.34647923, -1.12867786]])"
      ]
     },
     "execution_count": 3,
     "metadata": {},
     "output_type": "execute_result"
    }
   ],
   "source": [
    "generate_random_feature_weights(5, 3)"
   ]
  },
  {
   "cell_type": "code",
   "execution_count": 4,
   "metadata": {
    "collapsed": false
   },
   "outputs": [
    {
     "data": {
      "text/plain": [
       "array([[-0.12454963,  2.67088687, -0.77299233],\n",
       "       [ 0.75652838, -0.96835831, -3.46782335]])"
      ]
     },
     "execution_count": 4,
     "metadata": {},
     "output_type": "execute_result"
    }
   ],
   "source": [
    "generate_random_feature_weights(2, 3)"
   ]
  },
  {
   "cell_type": "code",
   "execution_count": 5,
   "metadata": {
    "collapsed": false
   },
   "outputs": [
    {
     "data": {
      "text/plain": [
       "array([[-0.99011056,  0.52040181,  0.4163527 ],\n",
       "       [-2.07534082, -1.61474601, -2.91699828],\n",
       "       [-0.70177494, -3.11362701,  2.22288063],\n",
       "       [-0.26972932,  0.18302112, -0.06751558],\n",
       "       [-2.32424387, -4.38728257, -2.60752613],\n",
       "       [-2.06657521, -1.45994614,  4.29848848],\n",
       "       [-0.15025546,  2.73521163, -1.51022954],\n",
       "       [-2.38620246, -1.29725763, -2.11208571],\n",
       "       [-0.20566191,  0.08736627,  0.17869274],\n",
       "       [-1.40683553,  0.07925304, -2.73136962]])"
      ]
     },
     "execution_count": 5,
     "metadata": {},
     "output_type": "execute_result"
    }
   ],
   "source": [
    "generate_random_feature_weights(10, 3)"
   ]
  },
  {
   "cell_type": "code",
   "execution_count": null,
   "metadata": {
    "collapsed": true
   },
   "outputs": [],
   "source": []
  }
 ],
 "metadata": {
  "kernelspec": {
   "display_name": "Python 3",
   "language": "python",
   "name": "python3"
  },
  "language_info": {
   "codemirror_mode": {
    "name": "ipython",
    "version": 3
   },
   "file_extension": ".py",
   "mimetype": "text/x-python",
   "name": "python",
   "nbconvert_exporter": "python",
   "pygments_lexer": "ipython3",
   "version": "3.5.2"
  }
 },
 "nbformat": 4,
 "nbformat_minor": 1
}
