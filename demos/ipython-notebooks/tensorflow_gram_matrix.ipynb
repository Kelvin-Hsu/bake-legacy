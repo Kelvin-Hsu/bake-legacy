{
 "cells": [
  {
   "cell_type": "code",
   "execution_count": 1,
   "metadata": {
    "collapsed": false,
    "scrolled": true
   },
   "outputs": [],
   "source": [
    "import tensorflow as tf\n",
    "import numpy as np\n",
    "from scipy.spatial.distance import cdist\n",
    "from scipy.linalg import cholesky, cho_solve\n",
    "import time"
   ]
  },
  {
   "cell_type": "code",
   "execution_count": 2,
   "metadata": {
    "collapsed": true,
    "scrolled": true
   },
   "outputs": [],
   "source": [
    "np.random.seed(0)\n",
    "theta_init = np.array([2., 8.])\n",
    "x_p_init = np.random.rand(5, 2)\n",
    "x_q_init = np.random.rand(3, 2)"
   ]
  },
  {
   "cell_type": "code",
   "execution_count": 3,
   "metadata": {
    "collapsed": false,
    "scrolled": true
   },
   "outputs": [],
   "source": [
    "def scipy_cdist(x_p, x_q, theta):\n",
    "    return cdist(x_p/theta, x_q/theta, 'sqeuclidean')"
   ]
  },
  {
   "cell_type": "code",
   "execution_count": 4,
   "metadata": {
    "collapsed": false,
    "scrolled": true
   },
   "outputs": [
    {
     "data": {
      "text/plain": [
       "array([[ 0.01529378,  0.0007842 ,  0.06323125],\n",
       "       [ 0.00893062,  0.00256608,  0.07395753],\n",
       "       [ 0.03408281,  0.0064345 ,  0.0359634 ],\n",
       "       [ 0.03341091,  0.00427266,  0.04370637],\n",
       "       [ 0.00772122,  0.04372113,  0.2005675 ]])"
      ]
     },
     "execution_count": 4,
     "metadata": {},
     "output_type": "execute_result"
    }
   ],
   "source": [
    "scipy_cdist(x_p_init, x_q_init, theta_init)"
   ]
  },
  {
   "cell_type": "code",
   "execution_count": 5,
   "metadata": {
    "collapsed": false,
    "scrolled": true
   },
   "outputs": [],
   "source": [
    "def numpy_cdist(x_p, x_q, theta):\n",
    "    z_p = x_p/theta  # (n_p, d)\n",
    "    z_q = x_q/theta  # (n_q, d)\n",
    "    d_pq = np.dot(z_p, z_q.T)  # (n_p, n_q)\n",
    "    d_p = np.sum(z_p ** 2, axis=1)  # (n_p,)\n",
    "    d_q = np.sum(z_q ** 2, axis=1)  # (n_q,)\n",
    "    return (d_p + (-2 * d_pq + d_q).T).T"
   ]
  },
  {
   "cell_type": "code",
   "execution_count": 6,
   "metadata": {
    "collapsed": false,
    "scrolled": true
   },
   "outputs": [
    {
     "data": {
      "text/plain": [
       "array([[ 0.01529378,  0.0007842 ,  0.06323125],\n",
       "       [ 0.00893062,  0.00256608,  0.07395753],\n",
       "       [ 0.03408281,  0.0064345 ,  0.0359634 ],\n",
       "       [ 0.03341091,  0.00427266,  0.04370637],\n",
       "       [ 0.00772122,  0.04372113,  0.2005675 ]])"
      ]
     },
     "execution_count": 6,
     "metadata": {},
     "output_type": "execute_result"
    }
   ],
   "source": [
    "numpy_cdist(x_p_init, x_q_init, theta_init)"
   ]
  },
  {
   "cell_type": "code",
   "execution_count": 7,
   "metadata": {
    "collapsed": true,
    "scrolled": true
   },
   "outputs": [],
   "source": [
    "def tf_cdist(x_p, x_q, theta):\n",
    "    z_p = tf.divide(x_p, theta)  # (n_p, d)\n",
    "    z_q = tf.divide(x_q, theta)  # (n_q, d)\n",
    "    d_pq = tf.matmul(z_p, tf.transpose(z_q))  # (n_p, n_q)\n",
    "    d_p = tf.reduce_sum(tf.square(z_p), axis=1)  # (n_p,)\n",
    "    d_q = tf.reduce_sum(tf.square(z_q), axis=1)  # (n_q,)\n",
    "#     return tf.transpose(d_p + tf.transpose(-2 * d_pq + d_q))\n",
    "    return d_p[:, np.newaxis] - 2 * d_pq + d_q\n",
    "# gamma = tf.constant(-50.0)\n",
    "# dist = tf.reduce_sum(tf.square(x_data), 1)\n",
    "# dist = tf.reshape(dist, [-1,1])\n",
    "# sq_dists = tf.add(tf.subtract(dist, tf.multiply(2., tf.matmul(x_data, tf.transpose(x_data)))), tf.transpose(dist))\n",
    "# my_kernel = tf.exp(tf.multiply(gamma, tf.abs(sq_dists)))"
   ]
  },
  {
   "cell_type": "code",
   "execution_count": 8,
   "metadata": {
    "collapsed": false,
    "scrolled": true
   },
   "outputs": [
    {
     "data": {
      "text/plain": [
       "<tf.Tensor 'strided_slice_1:0' shape=() dtype=int32>"
      ]
     },
     "execution_count": 8,
     "metadata": {},
     "output_type": "execute_result"
    }
   ],
   "source": [
    "x_p = tf.placeholder(tf.float64, shape=list(x_p_init.shape))\n",
    "x_q = tf.placeholder(tf.float64, shape=list(x_q_init.shape))\n",
    "theta = tf.placeholder(tf.float64, shape=list(theta_init.shape))\n",
    "tf_gram_matrix = tf_cdist(x_p, x_q, theta)\n",
    "shape = tf.shape(tf_gram_matrix)\n",
    "shape[0]"
   ]
  },
  {
   "cell_type": "code",
   "execution_count": 9,
   "metadata": {
    "collapsed": false,
    "scrolled": true
   },
   "outputs": [
    {
     "data": {
      "text/plain": [
       "array([[ 0.01529378,  0.0007842 ,  0.06323125],\n",
       "       [ 0.00893062,  0.00256608,  0.07395753],\n",
       "       [ 0.03408281,  0.0064345 ,  0.0359634 ],\n",
       "       [ 0.03341091,  0.00427266,  0.04370637],\n",
       "       [ 0.00772122,  0.04372113,  0.2005675 ]])"
      ]
     },
     "execution_count": 9,
     "metadata": {},
     "output_type": "execute_result"
    }
   ],
   "source": [
    "sess = tf.Session()\n",
    "tf_gram_matrix_eval = sess.run(tf_gram_matrix, feed_dict={x_p: x_p_init, x_q: x_q_init, theta: theta_init})\n",
    "tf_gram_matrix_eval"
   ]
  },
  {
   "cell_type": "code",
   "execution_count": 10,
   "metadata": {
    "collapsed": false,
    "scrolled": true
   },
   "outputs": [
    {
     "data": {
      "text/plain": [
       "array([ 17.])"
      ]
     },
     "execution_count": 10,
     "metadata": {},
     "output_type": "execute_result"
    }
   ],
   "source": [
    "theta_last = 2 * theta[1:] + 1\n",
    "sess.run(theta_last, feed_dict={theta: theta_init})"
   ]
  },
  {
   "cell_type": "code",
   "execution_count": 11,
   "metadata": {
    "collapsed": false,
    "scrolled": true
   },
   "outputs": [
    {
     "data": {
      "text/plain": [
       "array([ True,  True], dtype=bool)"
      ]
     },
     "execution_count": 11,
     "metadata": {},
     "output_type": "execute_result"
    }
   ],
   "source": [
    "theta_check = theta > 0.5\n",
    "sess.run(theta_check, feed_dict={theta: theta_init})"
   ]
  },
  {
   "cell_type": "code",
   "execution_count": 12,
   "metadata": {
    "collapsed": false,
    "scrolled": true
   },
   "outputs": [
    {
     "data": {
      "text/plain": [
       "array([[ 2.],\n",
       "       [ 8.]])"
      ]
     },
     "execution_count": 12,
     "metadata": {},
     "output_type": "execute_result"
    }
   ],
   "source": [
    "theta_new_axis = theta[:, np.newaxis]\n",
    "sess.run(theta_new_axis, feed_dict={theta: theta_init})"
   ]
  },
  {
   "cell_type": "code",
   "execution_count": 13,
   "metadata": {
    "collapsed": false
   },
   "outputs": [
    {
     "name": "stdout",
     "output_type": "stream",
     "text": [
      "Tensor(\"Shape_1:0\", shape=(1,), dtype=int32)\n"
     ]
    },
    {
     "data": {
      "text/plain": [
       "array([ 5.,  8.])"
      ]
     },
     "execution_count": 13,
     "metadata": {},
     "output_type": "execute_result"
    }
   ],
   "source": [
    "theta_clip = tf.clip_by_value(theta, 5., np.inf)\n",
    "print(tf.shape(theta_clip))\n",
    "sess.run(theta_clip, feed_dict={theta: theta_init})"
   ]
  },
  {
   "cell_type": "code",
   "execution_count": 14,
   "metadata": {
    "collapsed": false
   },
   "outputs": [
    {
     "name": "stdout",
     "output_type": "stream",
     "text": [
      "[0 1]\n"
     ]
    },
    {
     "data": {
      "text/plain": [
       "array([ True, False], dtype=bool)"
      ]
     },
     "execution_count": 14,
     "metadata": {},
     "output_type": "execute_result"
    }
   ],
   "source": [
    "theta_less = tf.less_equal(theta, 5)\n",
    "s = tf.range(tf.shape(theta)[0])\n",
    "print(sess.run(s, feed_dict={theta: theta_init}))\n",
    "sess.run(theta_less, feed_dict={theta: theta_init})"
   ]
  },
  {
   "cell_type": "code",
   "execution_count": 15,
   "metadata": {
    "collapsed": false
   },
   "outputs": [
    {
     "data": {
      "text/plain": [
       "array([ 1.        ,  0.33261985,  0.27815676,  0.37001213,  0.47861835,\n",
       "        0.29915857,  1.        ,  0.28052917,  1.        ,  0.13992102], dtype=float32)"
      ]
     },
     "execution_count": 15,
     "metadata": {},
     "output_type": "execute_result"
    }
   ],
   "source": [
    "p = tf.placeholder(tf.float32, shape=[10])\n",
    "invalid_condition = tf.less_equal(p, 0)\n",
    "p_adjust = tf.select(invalid_condition, tf.ones(tf.shape(p)), p)\n",
    "p_init = np.random.rand(10) - 0.5\n",
    "sess.run(p_adjust, feed_dict={p: p_init})"
   ]
  },
  {
   "cell_type": "code",
   "execution_count": 16,
   "metadata": {
    "collapsed": false
   },
   "outputs": [
    {
     "name": "stdout",
     "output_type": "stream",
     "text": [
      "[1 1 0 2 0 2 2 0 2 0]\n",
      "[4 5 8]\n",
      "[5 5 4 8 4 8 8 4 8 4]\n"
     ]
    }
   ],
   "source": [
    "ind_val = np.random.randint(0, 3, (10,))\n",
    "classes_val = np.array([4, 5, 8])\n",
    "pred_val = classes_val[ind_val]\n",
    "print(ind_val)\n",
    "print(classes_val)\n",
    "print(pred_val)"
   ]
  },
  {
   "cell_type": "code",
   "execution_count": 17,
   "metadata": {
    "collapsed": false
   },
   "outputs": [
    {
     "name": "stdout",
     "output_type": "stream",
     "text": [
      "Tensor(\"Gather:0\", shape=(10,), dtype=int32)\n"
     ]
    },
    {
     "data": {
      "text/plain": [
       "array([5, 5, 4, 8, 4, 8, 8, 4, 8, 4], dtype=int32)"
      ]
     },
     "execution_count": 17,
     "metadata": {},
     "output_type": "execute_result"
    }
   ],
   "source": [
    "sess = tf.Session()\n",
    "ind = tf.placeholder(tf.int32, shape=[10])\n",
    "classes = tf.placeholder(tf.int32, shape=[3])\n",
    "pred = tf.gather(classes, ind, validate_indices=None, name=None)\n",
    "print(pred)\n",
    "sess.run(pred, feed_dict={ind: ind_val, classes: classes_val})"
   ]
  },
  {
   "cell_type": "code",
   "execution_count": 29,
   "metadata": {
    "collapsed": false
   },
   "outputs": [
    {
     "data": {
      "text/plain": [
       "array([0, 1, 2], dtype=int32)"
      ]
     },
     "execution_count": 29,
     "metadata": {},
     "output_type": "execute_result"
    }
   ],
   "source": [
    "indices = tf.range(tf.shape(classes)[0])\n",
    "sess.run(indices, feed_dict={ind: ind_val, classes: classes_val})"
   ]
  },
  {
   "cell_type": "code",
   "execution_count": 18,
   "metadata": {
    "collapsed": false,
    "scrolled": true
   },
   "outputs": [
    {
     "data": {
      "text/plain": [
       "array([[ 0.,  1.,  0.,  0.],\n",
       "       [ 0.,  0.,  0.,  1.]])"
      ]
     },
     "execution_count": 18,
     "metadata": {},
     "output_type": "execute_result"
    }
   ],
   "source": [
    "variable = tf.placeholder(tf.float64, shape=[4])\n",
    "theta_new_axis = tf.cast(tf.equal(theta[:, np.newaxis], variable), tf.float64)\n",
    "sess.run(theta_new_axis, feed_dict={theta: np.array([1, 3]), variable: np.arange(4)})"
   ]
  },
  {
   "cell_type": "code",
   "execution_count": 19,
   "metadata": {
    "collapsed": true,
    "scrolled": true
   },
   "outputs": [],
   "source": [
    "def scipy_gaussian(x_p, x_q, theta):\n",
    "    return np.exp(-0.5 * scipy_cdist(x_p, x_q, theta))"
   ]
  },
  {
   "cell_type": "code",
   "execution_count": 20,
   "metadata": {
    "collapsed": true,
    "scrolled": true
   },
   "outputs": [],
   "source": [
    "def numpy_gaussian(x_p, x_q, theta):\n",
    "    return np.exp(-0.5 * numpy_cdist(x_p, x_q, theta))"
   ]
  },
  {
   "cell_type": "code",
   "execution_count": 21,
   "metadata": {
    "collapsed": true,
    "scrolled": true
   },
   "outputs": [],
   "source": [
    "def tf_gaussian(x_p, x_q, theta):\n",
    "    return tf.exp(-0.5 * tf_cdist(x_p, x_q, theta))"
   ]
  },
  {
   "cell_type": "code",
   "execution_count": 22,
   "metadata": {
    "collapsed": true,
    "scrolled": true
   },
   "outputs": [],
   "source": [
    "def scipy_mock_predict(x, y, x_q, hypers):\n",
    "    start = time.clock()\n",
    "    n = x.shape[0]\n",
    "    theta = hypers[:-1]\n",
    "    zeta = hypers[-1]\n",
    "    k_reg = scipy_gaussian(x, x, theta) + n * zeta ** 2 * np.eye(n)\n",
    "    k_q = scipy_gaussian(x, x_q, theta)\n",
    "    lower = True\n",
    "    l = cholesky(k_reg, lower=lower, check_finite=False)\n",
    "    b = cho_solve((l, lower), k_q, check_finite=False)\n",
    "    time_took = time.clock() - start\n",
    "    return np.dot(y, b), time_took"
   ]
  },
  {
   "cell_type": "code",
   "execution_count": 23,
   "metadata": {
    "collapsed": true,
    "scrolled": true
   },
   "outputs": [],
   "source": [
    "def numpy_mock_predict(x, y, x_q, hypers):\n",
    "    start = time.clock()\n",
    "    n = x.shape[0]\n",
    "    theta = hypers[:-1]\n",
    "    zeta = hypers[-1]\n",
    "    k_reg = numpy_gaussian(x, x, theta) + n * zeta ** 2 * np.eye(n)\n",
    "    k_q = numpy_gaussian(x, x_q, theta)\n",
    "    lower = True\n",
    "    l = cholesky(k_reg, lower=lower, check_finite=False)\n",
    "    b = cho_solve((l, lower), k_q, check_finite=False)\n",
    "    time_took = time.clock() - start\n",
    "    return np.dot(y, b), time_took"
   ]
  },
  {
   "cell_type": "code",
   "execution_count": 24,
   "metadata": {
    "collapsed": true,
    "scrolled": true
   },
   "outputs": [],
   "source": [
    "def tf_mock_predict(x, y, x_q, hypers):\n",
    "    n = tf.shape(x)[0]\n",
    "    i = tf.cast(tf.eye(n), tf.float64)\n",
    "    theta = hypers[:-1]\n",
    "    zeta = hypers[-1]\n",
    "    k_reg = tf_gaussian(x, x, theta) + tf.multiply(tf.cast(n, tf.float64), tf.multiply(zeta ** 2, i))\n",
    "    k_q = tf_gaussian(x, x_q, theta)\n",
    "    lower = True\n",
    "    l = tf.cholesky(k_reg)\n",
    "    b = tf.cholesky_solve(l, k_q)\n",
    "    return tf.matmul(y[np.newaxis, :], b)[0]"
   ]
  },
  {
   "cell_type": "code",
   "execution_count": 25,
   "metadata": {
    "collapsed": true,
    "scrolled": true
   },
   "outputs": [],
   "source": [
    "def tf_mock_predict_eval(x_eval, y_eval, x_q_eval, hypers_eval):\n",
    "    x = tf.placeholder(tf.float64, shape=list(x_eval.shape))\n",
    "    y = tf.placeholder(tf.float64, shape=list(y_eval.shape))\n",
    "    x_q = tf.placeholder(tf.float64, shape=list(x_q_eval.shape))\n",
    "    hypers = tf.placeholder(tf.float64, shape=list(hypers_eval.shape))\n",
    "    result = tf_mock_predict(x, y, x_q, hypers)\n",
    "    hypers_grad = tf.gradients(result, [hypers])[0]\n",
    "    sess = tf.Session()\n",
    "    start = time.clock()\n",
    "    answer = sess.run(result, feed_dict={x: x_eval, y: y_eval, x_q: x_q_eval, hypers: hypers_eval})\n",
    "    time_took = time.clock() - start\n",
    "    start = time.clock()\n",
    "    answer_grad = sess.run(hypers_grad, feed_dict={x: x_eval, y: y_eval, x_q: x_q_eval, hypers: hypers_eval})\n",
    "    time_took_grad = time.clock() - start\n",
    "    return answer, answer_grad, time_took, time_took_grad"
   ]
  },
  {
   "cell_type": "code",
   "execution_count": 26,
   "metadata": {
    "collapsed": false,
    "scrolled": true
   },
   "outputs": [
    {
     "name": "stdout",
     "output_type": "stream",
     "text": [
      "[-16.2800275  -15.91239191 -16.49401066 ..., -16.32422978 -15.76398735\n",
      " -15.86634023]\n",
      "(21,)\n"
     ]
    }
   ],
   "source": [
    "np.random.seed(100)\n",
    "n = 2000\n",
    "n_q = 5\n",
    "d = 20\n",
    "x = np.random.rand(n, d)\n",
    "w = np.random.rand(d)\n",
    "b = -1\n",
    "y = np.sum(w * x + b, axis=1)\n",
    "print(y)\n",
    "x_q = np.random.rand(n_q, d)\n",
    "hypers = np.append(np.random.rand(d), 1e-4)\n",
    "print(hypers.shape)"
   ]
  },
  {
   "cell_type": "code",
   "execution_count": 27,
   "metadata": {
    "collapsed": false,
    "scrolled": true
   },
   "outputs": [
    {
     "name": "stdout",
     "output_type": "stream",
     "text": [
      "Numpy Done.\n",
      "Scipy Done.\n",
      "Tensorflow Done.\n",
      "(array([-0.28, -0.  , -0.14, -0.  , -0.2 ]), 1.4319080000000004)\n",
      "(array([-0.28, -0.  , -0.14, -0.  , -0.2 ]), 1.0324749999999998)\n",
      "(array([-0.28, -0.  , -0.14, -0.  , -0.2 ]), array([ -8.45e-02,  -7.52e-01,  -9.95e-02,  -3.61e-02,  -2.86e+01,\n",
      "        -4.76e-01,  -1.65e+00,  -1.06e-01,  -7.55e+00,  -8.31e-02,\n",
      "        -2.58e+00,  -9.47e-02,  -2.42e-02,  -5.52e+00,  -2.62e-02,\n",
      "        -2.55e-02,  -5.60e-02,  -6.33e-01,  -1.63e+01,  -1.23e+00,\n",
      "         2.52e-01]), 1.1604520000000003, 2.491683)\n"
     ]
    }
   ],
   "source": [
    "numpy_result = numpy_mock_predict(x, y, x_q, hypers)\n",
    "print('Numpy Done.')\n",
    "scipy_result = scipy_mock_predict(x, y, x_q, hypers)\n",
    "print('Scipy Done.')\n",
    "tf_result = tf_mock_predict_eval(x, y, x_q, hypers)\n",
    "print(\"Tensorflow Done.\")\n",
    "np.set_printoptions(2)\n",
    "print(numpy_result)\n",
    "print(scipy_result)\n",
    "print(tf_result)"
   ]
  },
  {
   "cell_type": "code",
   "execution_count": 28,
   "metadata": {
    "collapsed": false,
    "scrolled": true
   },
   "outputs": [],
   "source": [
    "# from timeit import timeit\n",
    "# print(timeit('numpy_mock_predict(x, y, x_q, hypers)', number=10000, setup=\"from __main__ import numpy_mock_predict, x, y, x_q, hypers\"))\n",
    "# print(timeit('scipy_mock_predict(x, y, x_q, hypers)', number=10000, setup=\"from __main__ import scipy_mock_predict, x, y, x_q, hypers\"))\n",
    "# print(timeit('tf_mock_predict_eval(x, y, x_q, hypers)', number=1, setup=\"from __main__ import tf_mock_predict_eval, x, y, x_q, hypers\"))"
   ]
  },
  {
   "cell_type": "code",
   "execution_count": null,
   "metadata": {
    "collapsed": true,
    "scrolled": true
   },
   "outputs": [],
   "source": []
  },
  {
   "cell_type": "code",
   "execution_count": null,
   "metadata": {
    "collapsed": false
   },
   "outputs": [],
   "source": []
  },
  {
   "cell_type": "code",
   "execution_count": null,
   "metadata": {
    "collapsed": true
   },
   "outputs": [],
   "source": []
  }
 ],
 "metadata": {
  "kernelspec": {
   "display_name": "Python 3",
   "language": "python",
   "name": "python3"
  },
  "language_info": {
   "codemirror_mode": {
    "name": "ipython",
    "version": 3
   },
   "file_extension": ".py",
   "mimetype": "text/x-python",
   "name": "python",
   "nbconvert_exporter": "python",
   "pygments_lexer": "ipython3",
   "version": "3.5.2"
  }
 },
 "nbformat": 4,
 "nbformat_minor": 1
}
