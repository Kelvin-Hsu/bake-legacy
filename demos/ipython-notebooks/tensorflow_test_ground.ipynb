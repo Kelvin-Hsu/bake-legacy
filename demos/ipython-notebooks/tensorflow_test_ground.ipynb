{
 "cells": [
  {
   "cell_type": "code",
   "execution_count": 1,
   "metadata": {
    "collapsed": true
   },
   "outputs": [],
   "source": [
    "import tensorflow as tf\n",
    "import numpy as np\n",
    "np.random.seed(0)\n",
    "np.set_printoptions(2)"
   ]
  },
  {
   "cell_type": "code",
   "execution_count": 2,
   "metadata": {
    "collapsed": false
   },
   "outputs": [
    {
     "name": "stdout",
     "output_type": "stream",
     "text": [
      "[0 1 0 1 1 2 0 2]\n",
      "[2 4 2 4 4 5 2 5]\n",
      "[2 4 5]\n"
     ]
    }
   ],
   "source": [
    "n = 8\n",
    "actual_y_indices = np.random.randint(0, 3, (n,))\n",
    "print(actual_y_indices)\n",
    "y = np.array([2, 4, 5])[actual_y_indices]\n",
    "print(y)\n",
    "classes = np.unique(y)\n",
    "print(classes)\n",
    "y = y[:, np.newaxis]"
   ]
  },
  {
   "cell_type": "code",
   "execution_count": 3,
   "metadata": {
    "collapsed": false
   },
   "outputs": [
    {
     "name": "stdout",
     "output_type": "stream",
     "text": [
      "[[ True False False]\n",
      " [False  True False]\n",
      " [ True False False]\n",
      " [False  True False]\n",
      " [False  True False]\n",
      " [False False  True]\n",
      " [ True False False]\n",
      " [False False  True]]\n"
     ]
    }
   ],
   "source": [
    "y_one_hot = y == classes\n",
    "print(y_one_hot)"
   ]
  },
  {
   "cell_type": "code",
   "execution_count": 4,
   "metadata": {
    "collapsed": false
   },
   "outputs": [
    {
     "name": "stdout",
     "output_type": "stream",
     "text": [
      "[0 1 0 1 1 2 0 2]\n"
     ]
    }
   ],
   "source": [
    "y_indices = np.where(y_one_hot)[1]\n",
    "print(y_indices)"
   ]
  },
  {
   "cell_type": "code",
   "execution_count": 5,
   "metadata": {
    "collapsed": false
   },
   "outputs": [
    {
     "name": "stdout",
     "output_type": "stream",
     "text": [
      "[[ 0.07  0.34  0.59]\n",
      " [ 0.48  0.28  0.23]\n",
      " [ 0.46  0.19  0.36]\n",
      " [ 0.25  0.65  0.1 ]\n",
      " [ 0.41  0.22  0.37]\n",
      " [ 0.27  0.35  0.38]\n",
      " [ 0.31  0.29  0.4 ]\n",
      " [ 0.14  0.62  0.24]]\n"
     ]
    }
   ],
   "source": [
    "p_query = np.random.rand(n, 3)\n",
    "p_query = (p_query.T / np.sum(p_query.T, axis=0)).T\n",
    "print(p_query)"
   ]
  },
  {
   "cell_type": "code",
   "execution_count": 6,
   "metadata": {
    "collapsed": false
   },
   "outputs": [
    {
     "name": "stdout",
     "output_type": "stream",
     "text": [
      "[[ 0.07  0.34  0.07  0.34  0.34  0.59  0.07  0.59]\n",
      " [ 0.48  0.28  0.48  0.28  0.28  0.23  0.48  0.23]\n",
      " [ 0.46  0.19  0.46  0.19  0.19  0.36  0.46  0.36]\n",
      " [ 0.25  0.65  0.25  0.65  0.65  0.1   0.25  0.1 ]\n",
      " [ 0.41  0.22  0.41  0.22  0.22  0.37  0.41  0.37]\n",
      " [ 0.27  0.35  0.27  0.35  0.35  0.38  0.27  0.38]\n",
      " [ 0.31  0.29  0.31  0.29  0.29  0.4   0.31  0.4 ]\n",
      " [ 0.14  0.62  0.14  0.62  0.62  0.24  0.14  0.24]]\n"
     ]
    }
   ],
   "source": [
    "p_field = p_query[:, y_indices]\n",
    "print(p_field)"
   ]
  },
  {
   "cell_type": "markdown",
   "metadata": {},
   "source": [
    "Expanding matrices"
   ]
  },
  {
   "cell_type": "code",
   "execution_count": 7,
   "metadata": {
    "collapsed": false
   },
   "outputs": [],
   "source": [
    "tf_y_indices = tf.placeholder(tf.int32, shape=list(y_indices.shape))\n",
    "tf_p_query = tf.placeholder(tf.float32, shape=list(p_query.shape))"
   ]
  },
  {
   "cell_type": "code",
   "execution_count": 8,
   "metadata": {
    "collapsed": false
   },
   "outputs": [
    {
     "name": "stdout",
     "output_type": "stream",
     "text": [
      "Tensor(\"transpose_1:0\", shape=(8, 8), dtype=float32)\n"
     ]
    }
   ],
   "source": [
    "tf_p_field = tf.transpose(tf.gather(tf.transpose(tf_p_query), tf_y_indices))\n",
    "print(tf_p_field)"
   ]
  },
  {
   "cell_type": "code",
   "execution_count": 9,
   "metadata": {
    "collapsed": false
   },
   "outputs": [
    {
     "name": "stdout",
     "output_type": "stream",
     "text": [
      "[[ 0.07  0.34  0.07  0.34  0.34  0.59  0.07  0.59]\n",
      " [ 0.48  0.28  0.48  0.28  0.28  0.23  0.48  0.23]\n",
      " [ 0.46  0.19  0.46  0.19  0.19  0.36  0.46  0.36]\n",
      " [ 0.25  0.65  0.25  0.65  0.65  0.1   0.25  0.1 ]\n",
      " [ 0.41  0.22  0.41  0.22  0.22  0.37  0.41  0.37]\n",
      " [ 0.27  0.35  0.27  0.35  0.35  0.38  0.27  0.38]\n",
      " [ 0.31  0.29  0.31  0.29  0.29  0.4   0.31  0.4 ]\n",
      " [ 0.14  0.62  0.14  0.62  0.62  0.24  0.14  0.24]]\n"
     ]
    }
   ],
   "source": [
    "sess = tf.Session()\n",
    "print(sess.run(tf_p_field, feed_dict={tf_y_indices: y_indices, tf_p_field: p_field}))"
   ]
  },
  {
   "cell_type": "markdown",
   "metadata": {},
   "source": [
    "Finding indices"
   ]
  },
  {
   "cell_type": "code",
   "execution_count": 10,
   "metadata": {
    "collapsed": false
   },
   "outputs": [
    {
     "name": "stdout",
     "output_type": "stream",
     "text": [
      "Tensor(\"strided_slice:0\", shape=(?,), dtype=int64)\n"
     ]
    }
   ],
   "source": [
    "tf_y = tf.placeholder(tf.float32, shape=list(y.shape))\n",
    "tf_classes = tf.cast(tf.constant(classes), tf.float32)\n",
    "tf_y_one_hot = tf.equal(tf_y, tf_classes)\n",
    "tf_y_indices = tf.where(tf_y_one_hot)[:, 1]\n",
    "print(tf_y_indices)"
   ]
  },
  {
   "cell_type": "code",
   "execution_count": 11,
   "metadata": {
    "collapsed": false
   },
   "outputs": [
    {
     "name": "stdout",
     "output_type": "stream",
     "text": [
      "[0 1 0 1 1 2 0 2]\n"
     ]
    }
   ],
   "source": [
    "sess = tf.Session()\n",
    "print(sess.run(tf_y_indices, feed_dict={tf_y: y}))"
   ]
  },
  {
   "cell_type": "code",
   "execution_count": 19,
   "metadata": {
    "collapsed": false
   },
   "outputs": [
    {
     "name": "stdout",
     "output_type": "stream",
     "text": [
      "1.27390177768\n",
      "1.27390177768\n",
      "1.27390177768\n"
     ]
    }
   ],
   "source": [
    "from sklearn.metrics import log_loss\n",
    "ll = -np.sum(np.log(p_query) * y_one_hot)/n\n",
    "print(ll)\n",
    "ll = -np.sum(np.log(p_query[np.arange(y_indices.shape[0]), y_indices])) / n\n",
    "print(ll)\n",
    "print(log_loss(y_indices, p_query))"
   ]
  },
  {
   "cell_type": "code",
   "execution_count": 27,
   "metadata": {
    "collapsed": false
   },
   "outputs": [
    {
     "name": "stdout",
     "output_type": "stream",
     "text": [
      "1.27390177768\n"
     ]
    }
   ],
   "source": [
    "# classes = np.unique(y)\n",
    "# class_indices = np.arange(classes.shape[0])\n",
    "# tf_classes = tf.cast(tf.constant(classes), tf.float32)\n",
    "# tf_class_indices = tf.cast(tf.constant(class_indices), tf.int32)\n",
    "\n",
    "ind = tf.stack([tf.constant(np.arange(n)), y_indices], axis=1)\n",
    "tf_p_want = tf.gather_nd(p_query, ind)\n",
    "tf_ll = -tf.reduce_sum(tf.log(tf_p_want)) / n\n",
    "print(sess.run(tf_ll, feed_dict={tf_y: y}))"
   ]
  },
  {
   "cell_type": "code",
   "execution_count": null,
   "metadata": {
    "collapsed": true
   },
   "outputs": [],
   "source": []
  }
 ],
 "metadata": {
  "kernelspec": {
   "display_name": "Python 3",
   "language": "python",
   "name": "python3"
  },
  "language_info": {
   "codemirror_mode": {
    "name": "ipython",
    "version": 3
   },
   "file_extension": ".py",
   "mimetype": "text/x-python",
   "name": "python",
   "nbconvert_exporter": "python",
   "pygments_lexer": "ipython3",
   "version": "3.5.2"
  }
 },
 "nbformat": 4,
 "nbformat_minor": 1
}
