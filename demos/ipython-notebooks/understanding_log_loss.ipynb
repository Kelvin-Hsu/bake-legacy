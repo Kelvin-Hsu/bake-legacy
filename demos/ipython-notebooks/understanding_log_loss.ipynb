{
 "cells": [
  {
   "cell_type": "code",
   "execution_count": 1,
   "metadata": {
    "collapsed": true,
    "deletable": true,
    "editable": true
   },
   "outputs": [],
   "source": [
    "import numpy as np\n",
    "from sklearn.metrics import log_loss"
   ]
  },
  {
   "cell_type": "markdown",
   "metadata": {},
   "source": [
    "Generate example labels and corresponding predictive probability distributions\n",
    "\n",
    "*p* is size *(n, n_class) = (10, 3)*\n",
    "\n",
    "*y* is size *(n,) = (10,)*"
   ]
  },
  {
   "cell_type": "code",
   "execution_count": 2,
   "metadata": {
    "collapsed": false,
    "deletable": true,
    "editable": true
   },
   "outputs": [
    {
     "name": "stdout",
     "output_type": "stream",
     "text": [
      "[[ 0.14823872  0.6288479   0.22291338]\n",
      " [ 0.14333071  0.44374829  0.41292101]\n",
      " [ 0.44302287  0.33050584  0.2264713 ]\n",
      " [ 0.40842086  0.19952646  0.39205267]\n",
      " [ 0.33005722  0.30432011  0.36562267]\n",
      " [ 0.25865383  0.38184393  0.35950225]\n",
      " [ 0.16319437  0.18920893  0.64759669]\n",
      " [ 0.23055204  0.16930447  0.60014349]\n",
      " [ 0.36625765  0.32996039  0.30378195]\n",
      " [ 0.49521855  0.13573083  0.36905061]]\n",
      "[0 1 1 0 2 2 1 2 1 0]\n"
     ]
    }
   ],
   "source": [
    "p = np.random.rand(10, 3).T\n",
    "p = (p / p.sum(axis=0)).T\n",
    "y = np.random.randint(0, 3, (10,))\n",
    "print(p)\n",
    "print(y)"
   ]
  },
  {
   "cell_type": "code",
   "execution_count": 3,
   "metadata": {
    "collapsed": false,
    "deletable": true,
    "editable": true
   },
   "outputs": [
    {
     "data": {
      "text/plain": [
       "1.0740234117356233"
      ]
     },
     "execution_count": 3,
     "metadata": {},
     "output_type": "execute_result"
    }
   ],
   "source": [
    "log_loss(y, p)"
   ]
  },
  {
   "cell_type": "code",
   "execution_count": 4,
   "metadata": {
    "collapsed": true,
    "deletable": true,
    "editable": true
   },
   "outputs": [],
   "source": [
    "def my_log_loss(y, p):\n",
    "    classes = np.unique(y)\n",
    "    y_one_hot = (y[:, np.newaxis] == classes).astype(int)\n",
    "    print(y_one_hot)\n",
    "    print(y_one_hot.shape)\n",
    "    loss = -(y_one_hot * np.log(p)).sum(axis=1)\n",
    "    return np.mean(loss)"
   ]
  },
  {
   "cell_type": "code",
   "execution_count": 5,
   "metadata": {
    "collapsed": false,
    "deletable": true,
    "editable": true
   },
   "outputs": [
    {
     "name": "stdout",
     "output_type": "stream",
     "text": [
      "[[1 0 0]\n",
      " [0 1 0]\n",
      " [0 1 0]\n",
      " [1 0 0]\n",
      " [0 0 1]\n",
      " [0 0 1]\n",
      " [0 1 0]\n",
      " [0 0 1]\n",
      " [0 1 0]\n",
      " [1 0 0]]\n",
      "(10, 3)\n"
     ]
    },
    {
     "data": {
      "text/plain": [
       "1.0740234117356233"
      ]
     },
     "execution_count": 5,
     "metadata": {},
     "output_type": "execute_result"
    }
   ],
   "source": [
    "my_log_loss(y, p)"
   ]
  },
  {
   "cell_type": "code",
   "execution_count": 6,
   "metadata": {
    "collapsed": true
   },
   "outputs": [],
   "source": [
    "def my_other_log_loss(y, p):\n",
    "    p_want = p[np.arange(y.shape[0]), y]\n",
    "    print(p_want)\n",
    "    return -np.mean(np.log(p_want))"
   ]
  },
  {
   "cell_type": "code",
   "execution_count": 7,
   "metadata": {
    "collapsed": false
   },
   "outputs": [
    {
     "name": "stdout",
     "output_type": "stream",
     "text": [
      "[ 0.14823872  0.44374829  0.33050584  0.40842086  0.36562267  0.35950225\n",
      "  0.18920893  0.60014349  0.32996039  0.49521855]\n"
     ]
    },
    {
     "data": {
      "text/plain": [
       "1.0740234117356233"
      ]
     },
     "execution_count": 7,
     "metadata": {},
     "output_type": "execute_result"
    }
   ],
   "source": [
    "my_other_log_loss(y, p)"
   ]
  },
  {
   "cell_type": "code",
   "execution_count": 16,
   "metadata": {
    "collapsed": true
   },
   "outputs": [],
   "source": [
    "import tensorflow as tf\n",
    "tf_float_type = tf.float64\n",
    "tf_int_type = tf.int64\n",
    "\n",
    "def tensorflow_log_loss(y, p):\n",
    "    classes = np.unique(y)\n",
    "    class_indices = np.arange(classes.shape[0])\n",
    "    tf_y = tf.constant(y[:, np.newaxis])\n",
    "    n = tf.constant(y.shape[0])\n",
    "    p_pred = tf.constant(p)\n",
    "    y_one_hot = tf.equal(tf_y, classes)\n",
    "    y_indices = tf.cast(tf.reduce_sum(tf.where(y_one_hot,\n",
    "                        tf.ones(tf.shape(y_one_hot)) * class_indices,\n",
    "                        tf.zeros(tf.shape(y_one_hot))), axis=1),\n",
    "                        tf_int_type)\n",
    "    \n",
    "    indices = tf.cast(tf.range(n), tf_int_type)\n",
    "    p_want = tf.gather_nd(p_pred, tf.stack([indices, y_indices], axis=1))\n",
    "\n",
    "    # The cross entropy loss over the training data\n",
    "    cross_entropy_loss = - tf.reduce_mean(tf.log(p_want))\n",
    "    sess = tf.Session()\n",
    "    return sess.run(cross_entropy_loss)"
   ]
  },
  {
   "cell_type": "code",
   "execution_count": 17,
   "metadata": {
    "collapsed": false
   },
   "outputs": [
    {
     "data": {
      "text/plain": [
       "1.0740234117356233"
      ]
     },
     "execution_count": 17,
     "metadata": {},
     "output_type": "execute_result"
    }
   ],
   "source": [
    "tensorflow_log_loss(y, p)"
   ]
  },
  {
   "cell_type": "code",
   "execution_count": null,
   "metadata": {
    "collapsed": true
   },
   "outputs": [],
   "source": []
  }
 ],
 "metadata": {
  "kernelspec": {
   "display_name": "Python 3",
   "language": "python",
   "name": "python3"
  },
  "language_info": {
   "codemirror_mode": {
    "name": "ipython",
    "version": 3
   },
   "file_extension": ".py",
   "mimetype": "text/x-python",
   "name": "python",
   "nbconvert_exporter": "python",
   "pygments_lexer": "ipython3",
   "version": "3.5.2"
  }
 },
 "nbformat": 4,
 "nbformat_minor": 1
}
